{
 "cells": [
  {
   "cell_type": "code",
   "execution_count": null,
   "id": "c52a0bbe",
   "metadata": {},
   "outputs": [
    {
     "name": "stdout",
     "output_type": "stream",
     "text": [
      "https://suonjueystehdhhatnda.supabase.co\n"
     ]
    }
   ],
   "source": [
    "from json import load\n",
    "from dotenv import load_dotenv\n",
    "import os\n",
    "\n",
    "load_dotenv()\n",
    "openai_api_key: str = os.getenv(\"OPENAI_API_KEY\")\n",
    "supabase_url: str = os.getenv(\"SUPABASE_URL\")\n",
    "supabase_key: str = os.getenv(\"SUPABASE_KEY\")"
   ]
  },
  {
   "cell_type": "code",
   "execution_count": 2,
   "id": "df5dea71",
   "metadata": {},
   "outputs": [],
   "source": [
    "from supabase import create_client, Client\n",
    "\n",
    "db: Client = create_client(supabase_url, supabase_key)"
   ]
  }
 ],
 "metadata": {
  "kernelspec": {
   "display_name": "venv (3.13.2)",
   "language": "python",
   "name": "python3"
  },
  "language_info": {
   "codemirror_mode": {
    "name": "ipython",
    "version": 3
   },
   "file_extension": ".py",
   "mimetype": "text/x-python",
   "name": "python",
   "nbconvert_exporter": "python",
   "pygments_lexer": "ipython3",
   "version": "3.13.2"
  }
 },
 "nbformat": 4,
 "nbformat_minor": 5
}
